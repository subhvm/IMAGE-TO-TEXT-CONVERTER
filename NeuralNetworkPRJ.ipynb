{
 "cells": [
  {
   "cell_type": "code",
   "execution_count": 3,
   "id": "b8c9112b-e784-42d4-b829-271fe1487534",
   "metadata": {},
   "outputs": [
    {
     "name": "stdout",
     "output_type": "stream",
     "text": [
      "Model: \"sequential_2\"\n",
      "_________________________________________________________________\n",
      " Layer (type)                Output Shape              Param #   \n",
      "=================================================================\n",
      " flatten_2 (Flatten)         (None, 784)               0         \n",
      "                                                                 \n",
      " dense_2 (Dense)             (None, 10)                7850      \n",
      "                                                                 \n",
      "=================================================================\n",
      "Total params: 7,850\n",
      "Trainable params: 7,850\n",
      "Non-trainable params: 0\n",
      "_________________________________________________________________\n",
      "Epoch 1/6\n",
      "1875/1875 [==============================] - 3s 1ms/step - loss: 0.4673 - accuracy: 0.8778\n",
      "Epoch 2/6\n",
      "1875/1875 [==============================] - 3s 2ms/step - loss: 0.3033 - accuracy: 0.9152\n",
      "Epoch 3/6\n",
      "1875/1875 [==============================] - 3s 2ms/step - loss: 0.2831 - accuracy: 0.9208\n",
      "Epoch 4/6\n",
      "1875/1875 [==============================] - 3s 2ms/step - loss: 0.2732 - accuracy: 0.9234\n",
      "Epoch 5/6\n",
      "1875/1875 [==============================] - 4s 2ms/step - loss: 0.2666 - accuracy: 0.9265\n",
      "Epoch 6/6\n",
      "1875/1875 [==============================] - 6s 3ms/step - loss: 0.2619 - accuracy: 0.9273\n",
      "313/313 [==============================] - 1s 1ms/step - loss: 0.2668 - accuracy: 0.9246\n",
      "1/1 [==============================] - 0s 68ms/step\n"
     ]
    },
    {
     "data": {
      "text/plain": [
       "1"
      ]
     },
     "execution_count": 3,
     "metadata": {},
     "output_type": "execute_result"
    },
    {
     "data": {
      "image/png": "[encoded data removed]",
      "text/plain": [
       "<Figure size 640x480 with 1 Axes>"
      ]
     },
     "metadata": {},
     "output_type": "display_data"
    }
   ],
   "source": [
    "import tensorflow as tf\n",
    "import os \n",
    "os.environ['KMP_DUPLICATE_LIB_OK'] = 'True'\n",
    "import numpy as np\n",
    "from tensorflow.keras.preprocessing import  image \n",
    "import matplotlib.pyplot as plt \n",
    "%matplotlib inline\n",
    "\n",
    "data = tf.keras.datasets.mnist \n",
    "(ip_train,op_train),(ip_test,op_test) = data.load_data()\n",
    "ip_train , ip_test = ip_train/255.0, ip_test/255.0\n",
    "\n",
    "\n",
    "model = tf.keras.models.Sequential([ tf.keras.layers.Flatten(input_shape = (28,28)),tf.keras.layers.Dense(10,activation = 'softmax')])\n",
    "model.compile(optimizer='adam', loss='sparse_categorical_crossentropy',metrics = ['accuracy'])\n",
    "model.summary()\n",
    "\n",
    "model.fit(ip_train, op_train,epochs= 6)\n",
    "\n",
    "model.evaluate(ip_test, op_test)\n",
    "\n",
    "\n",
    "test_image = ip_test [57]\n",
    "\n",
    "plt.imshow(test_image.reshape(28,28))\n",
    "\n",
    "\n",
    "\n",
    "test_image = image.img_to_array(test_image)\n",
    "test_image = test_image.reshape(1,28,28)\n",
    "\n",
    "result = model.predict(test_image)\n",
    "result\n",
    "\n",
    "np.around(result)\n",
    "\n",
    "(result).argmax()\n"
   ]
  }
 ],
 "metadata": {
  "kernelspec": {
   "display_name": "Python 3 (ipykernel)",
   "language": "python",
   "name": "python3"
  },
  "language_info": {
   "codemirror_mode": {
    "name": "ipython",
    "version": 3
   },
   "file_extension": ".py",
   "mimetype": "text/x-python",
   "name": "python",
   "nbconvert_exporter": "python",
   "pygments_lexer": "ipython3",
   "version": "3.9.18"
  }
 },
 "nbformat": 4,
 "nbformat_minor": 5
}
